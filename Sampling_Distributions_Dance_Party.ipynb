{
 "cells": [
  {
   "cell_type": "markdown",
   "id": "98e2de56",
   "metadata": {},
   "source": [
    "***Sampling Distributions Dance Party!***\n",
    "\n",
    "You are a DJ trying to make sure you are ready for a big party. You don’t have time to go through all the songs you can work with. Instead, you want to make sure that any sample of 30 songs from your playlist will get the party started. To do this, you will use the power of sampling distributions!\n",
    "\n",
    "We going to use adjusted spotify dataset from kaggle.com with removed some unnecessary columns."
   ]
  },
  {
   "cell_type": "markdown",
   "id": "0333f32e",
   "metadata": {},
   "source": [
    "Load the data and observe its content"
   ]
  },
  {
   "cell_type": "code",
   "execution_count": 7,
   "id": "d2deaa33",
   "metadata": {},
   "outputs": [
    {
     "name": "stdout",
     "output_type": "stream",
     "text": [
      "     tempo  danceability  energy  instrumentalness  liveness  valence\n",
      "0  156.985         0.831   0.814          0.013400    0.0556   0.3890\n",
      "1  115.080         0.719   0.493          0.000000    0.1180   0.1240\n",
      "2  218.050         0.850   0.893          0.000004    0.3720   0.0391\n",
      "3  186.948         0.476   0.781          0.000000    0.1140   0.1750\n",
      "4  147.988         0.798   0.624          0.000000    0.1660   0.5910\n"
     ]
    }
   ],
   "source": [
    "# Importing all necessary libraries\n",
    "import numpy as np\n",
    "import pandas as pd\n",
    "import matplotlib.pyplot as plt\n",
    "from scipy import stats\n",
    "import seaborn as sns\n",
    "\n",
    "# load in the spotify dataset\n",
    "spotify_data = pd.read_csv('spotify_data.csv')\n",
    "# preview the dataset\n",
    "print(spotify_data.head())"
   ]
  },
  {
   "cell_type": "markdown",
   "id": "6fd3494c",
   "metadata": {},
   "source": [
    "For this project, we are going to focus on the tempo variable. This column gives the beats per minute (bpm) of each song in spotify_data.csv"
   ]
  },
  {
   "cell_type": "code",
   "execution_count": 8,
   "id": "417b1c94",
   "metadata": {},
   "outputs": [],
   "source": [
    "#select the relevant column\n",
    "song_tempos = spotify_data.tempo"
   ]
  },
  {
   "cell_type": "markdown",
   "id": "da2801ea",
   "metadata": {},
   "source": [
    "Now let's create helper functions to calculate statistics:\n",
    "* choose_statistic(): allows us to choose a statistic we want to calculate for our sampling and population distributions. \n",
    "* population_data(): allows us to plot the population distribution of a dataframe with one function call.\n",
    "* sampling_distribution(): allows us to plot a simulated sampling distribution of a statistic. The simulated sampling distribution is created by taking random samples of some size, calculating a particular statistic, and plotting a histogram of those sample statistics."
   ]
  },
  {
   "cell_type": "code",
   "execution_count": 9,
   "id": "01064294",
   "metadata": {},
   "outputs": [],
   "source": [
    "# choose_statistic() \n",
    "def choose_statistic(x, sample_stat_text):\n",
    "  # calculate mean if the text is \"Mean\"\n",
    "  if sample_stat_text == \"Mean\":\n",
    "    return np.mean(x)\n",
    "  # calculate minimum if the text is \"Minimum\"\n",
    "  elif sample_stat_text == \"Minimum\":\n",
    "    return np.min(x)\n",
    "  # calculate variance if the text is \"Variance\"\n",
    "  elif sample_stat_text == \"Variance\":\n",
    "    return np.var(x, ddof=1)\n",
    "  # if you want to add an extra stat\n",
    "  # raise error if sample_stat_text is not \"Mean\", \"Minimum\", or \"Variance\"\n",
    "  else:\n",
    "    raise Exception('Make sure to input \"Mean\", \"Minimum\", or \"Variance\"')"
   ]
  },
  {
   "cell_type": "code",
   "execution_count": 10,
   "id": "c305e5c8",
   "metadata": {},
   "outputs": [],
   "source": [
    "# population_data()\n",
    "def population_distribution(population_data):\n",
    "  # plot the population distribution\n",
    "  sns.histplot(population_data, stat='density')\n",
    "  # informative title for the distribution \n",
    "  plt.title(f\"Population Distribution\")\n",
    "  # remove None label\n",
    "  plt.xlabel('')\n",
    "  plt.show()\n",
    "  plt.clf()"
   ]
  },
  {
   "cell_type": "code",
   "execution_count": 12,
   "id": "11f6fbeb",
   "metadata": {},
   "outputs": [],
   "source": [
    "# sampling_distribution()\n",
    "def sampling_distribution(population_data, samp_size, stat):\n",
    "  # list that will hold all the sample statistics\n",
    "  sample_stats = []\n",
    "  for i in range(500):\n",
    "    # get a random sample from the population of size samp_size\n",
    "    samp = np.random.choice(population_data, samp_size, replace = False)\n",
    "    # calculate the chosen statistic (mean, minimum, or variance) of the sample\n",
    "    sample_stat = choose_statistic(samp, stat)\n",
    "    # add sample_stat to the sample_stats list\n",
    "    sample_stats.append(sample_stat)\n",
    "  \n",
    "  pop_statistic = round(choose_statistic(population_data, stat),2)\n",
    "  # plot the sampling distribution\n",
    "  sns.histplot(sample_stats, stat='density')\n",
    "  # informative title for the sampling distribution\n",
    "  plt.title(f\"Sampling Distribution of the {stat} \\nMean of the Sample {stat}s: {round(np.mean(sample_stats), 2)} \\n Population {stat}: {pop_statistic}\")\n",
    "  plt.axvline(pop_statistic,color='g',linestyle='dashed', label=f'Population {stat}')\n",
    "  # plot the mean of the chosen sample statistic for the sampling distribution\n",
    "  plt.axvline(np.mean(sample_stats),color='orange',linestyle='dashed', label=f'Mean of the Sample {stat}s')\n",
    "  plt.legend()\n",
    "  plt.show()\n",
    "  plt.clf()"
   ]
  },
  {
   "cell_type": "markdown",
   "id": "a680183a",
   "metadata": {},
   "source": [
    "Let's plot population distribution for the song tempos"
   ]
  },
  {
   "cell_type": "code",
   "execution_count": 13,
   "id": "775ede67",
   "metadata": {},
   "outputs": [
    {
     "data": {
      "image/png": "[encoded data removed]",
      "text/plain": [
       "<Figure size 432x288 with 1 Axes>"
      ]
     },
     "metadata": {
      "needs_background": "light"
     },
     "output_type": "display_data"
    },
    {
     "data": {
      "text/plain": [
       "<Figure size 432x288 with 0 Axes>"
      ]
     },
     "metadata": {},
     "output_type": "display_data"
    }
   ],
   "source": [
    "population_distribution(song_tempos)"
   ]
  },
  {
   "cell_type": "markdown",
   "id": "bf709551",
   "metadata": {},
   "source": [
    "Now let’s plot the sampling distribution of the sample mean with sample sizes of 30 songs."
   ]
  },
  {
   "cell_type": "code",
   "execution_count": 14,
   "id": "191f6a9d",
   "metadata": {},
   "outputs": [
    {
     "data": {
      "image/png": "[encoded data removed]",
      "text/plain": [
       "<Figure size 432x288 with 1 Axes>"
      ]
     },
     "metadata": {
      "needs_background": "light"
     },
     "output_type": "display_data"
    },
    {
     "data": {
      "text/plain": [
       "<Figure size 432x288 with 0 Axes>"
      ]
     },
     "metadata": {},
     "output_type": "display_data"
    }
   ],
   "source": [
    "sampling_distribution(song_tempos, 30, \"Mean\")"
   ]
  },
  {
   "cell_type": "markdown",
   "id": "393e4ba3",
   "metadata": {},
   "source": [
    "Now let’s plot the sampling distribution of the sample minimum with sample sizes of 30 songs."
   ]
  },
  {
   "cell_type": "code",
   "execution_count": 15,
   "id": "cada9a40",
   "metadata": {},
   "outputs": [
    {
     "data": {
      "image/png": "[encoded data removed]",
      "text/plain": [
       "<Figure size 432x288 with 1 Axes>"
      ]
     },
     "metadata": {
      "needs_background": "light"
     },
     "output_type": "display_data"
    },
    {
     "data": {
      "text/plain": [
       "<Figure size 432x288 with 0 Axes>"
      ]
     },
     "metadata": {},
     "output_type": "display_data"
    }
   ],
   "source": [
    "sampling_distribution(song_tempos, 30, \"Minimum\")"
   ]
  },
  {
   "cell_type": "markdown",
   "id": "1b70c8bc",
   "metadata": {},
   "source": [
    "Now let’s plot the sampling distribution of the sample variance with sample sizes of 30 songs."
   ]
  },
  {
   "cell_type": "code",
   "execution_count": 16,
   "id": "8c8828b2",
   "metadata": {},
   "outputs": [
    {
     "data": {
      "image/png": "[encoded data removed]",
      "text/plain": [
       "<Figure size 432x288 with 1 Axes>"
      ]
     },
     "metadata": {
      "needs_background": "light"
     },
     "output_type": "display_data"
    },
    {
     "data": {
      "text/plain": [
       "<Figure size 432x288 with 0 Axes>"
      ]
     },
     "metadata": {},
     "output_type": "display_data"
    }
   ],
   "source": [
    "sampling_distribution(song_tempos, 30, \"Variance\")"
   ]
  },
  {
   "cell_type": "markdown",
   "id": "2465847f",
   "metadata": {},
   "source": [
    "We have a good sense of some sample statistics now that we’ve investigated sampling distributions. Let’s take our analysis further by calculating probabilities.\n",
    "\n",
    "First, calculate the population mean and population standard deviation of song_tempos"
   ]
  },
  {
   "cell_type": "code",
   "execution_count": 17,
   "id": "d22ad2af",
   "metadata": {},
   "outputs": [
    {
     "name": "stdout",
     "output_type": "stream",
     "text": [
      "Average tempo is 147.4740559035556\n",
      "Standard deviation is 23.8443414956797\n"
     ]
    }
   ],
   "source": [
    "population_mean = np.mean(song_tempos) \n",
    "print(\"Average tempo is {}\".format(population_mean))\n",
    "population_std = np.std(song_tempos)\n",
    "print(\"Standard deviation is {}\".format(population_std))"
   ]
  },
  {
   "cell_type": "markdown",
   "id": "d116b67e",
   "metadata": {},
   "source": [
    "Calculate standard error of the sampling distribution of the sample mean with a sample size of 30."
   ]
  },
  {
   "cell_type": "code",
   "execution_count": 18,
   "id": "bbf3ef4f",
   "metadata": {},
   "outputs": [
    {
     "name": "stdout",
     "output_type": "stream",
     "text": [
      "Standard error is 4.353361235346748\n"
     ]
    }
   ],
   "source": [
    "standard_error = population_std/30**0.5\n",
    "print(\"Standard error is {}\".format(standard_error))"
   ]
  },
  {
   "cell_type": "markdown",
   "id": "7ecfb40e",
   "metadata": {},
   "source": [
    "You are afraid that if the average tempo of the songs you randomly select is less than 140bpm that your party will not be enjoyable.\n",
    "\n",
    "Using Cumulative Distribution Function (CDF) and knowing mean and std calculate the probability that the sample mean of 30 selected songs is less than 140bpm. "
   ]
  },
  {
   "cell_type": "code",
   "execution_count": 19,
   "id": "ec77545d",
   "metadata": {},
   "outputs": [
    {
     "name": "stdout",
     "output_type": "stream",
     "text": [
      "The probability of observing an average tempo of 140bpm or lower from a sample of 30 songs is 0.04300355015962668 \n"
     ]
    }
   ],
   "source": [
    "print(\"The probability of observing an average tempo of 140bpm or lower from a sample of 30 songs is {} \".format(stats.norm.cdf(140,population_mean,standard_error)))"
   ]
  },
  {
   "cell_type": "markdown",
   "id": "9c981238",
   "metadata": {},
   "source": [
    "You know the party will be truly epic if the randomly sampled songs have an average tempo of greater than 150bpm.\n",
    "\n",
    "Using population_mean and standard_error in a CDF, calculate the probability that the sample mean of 30 selected songs is GREATER than 150bpm."
   ]
  },
  {
   "cell_type": "code",
   "execution_count": 20,
   "id": "083c6ce0",
   "metadata": {},
   "outputs": [
    {
     "name": "stdout",
     "output_type": "stream",
     "text": [
      "The probability of observing an average tempo of 150bpm or higher from a sample of 30 songs is 0.28088028101807083\n"
     ]
    }
   ],
   "source": [
    "print(\"The probability of observing an average tempo of 150bpm or higher from a sample of 30 songs is {}\".format(1-stats.norm.cdf(150,population_mean,standard_error)))"
   ]
  }
 ],
 "metadata": {
  "kernelspec": {
   "display_name": "Python 3 (ipykernel)",
   "language": "python",
   "name": "python3"
  },
  "language_info": {
   "codemirror_mode": {
    "name": "ipython",
    "version": 3
   },
   "file_extension": ".py",
   "mimetype": "text/x-python",
   "name": "python",
   "nbconvert_exporter": "python",
   "pygments_lexer": "ipython3",
   "version": "3.9.7"
  }
 },
 "nbformat": 4,
 "nbformat_minor": 5
}
